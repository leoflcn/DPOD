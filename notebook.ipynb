{
 "cells": [
  {
   "cell_type": "code",
   "execution_count": 3,
   "metadata": {},
   "outputs": [],
   "source": [
    "import os\n",
    "import re\n",
    "import cv2\n",
    "import pickle\n",
    "import random\n",
    "import numpy as np\n",
    "import matplotlib.pyplot as plt\n",
    "import matplotlib.image as mpimg\n",
    "from helper import save_obj, load_obj\n",
    "\n",
    "def get_rot_tra(rot_adr, tra_adr):\n",
    "    \"\"\"\n",
    "    Helper function to the read the rotation and translation file\n",
    "        Args:\n",
    "                rot_adr (str): path to the file containing rotation of an object\n",
    "        tra_adr (str): path to the file containing translation of an object\n",
    "        Returns:\n",
    "                rigid transformation (np array): rotation and translation matrix combined\n",
    "    \"\"\"\n",
    "\n",
    "    rot_matrix = np.loadtxt(rot_adr, skiprows=1)\n",
    "    trans_matrix = np.loadtxt(tra_adr, skiprows=1)\n",
    "    trans_matrix = np.reshape(trans_matrix, (3, 1))\n",
    "    rigid_transformation = np.append(rot_matrix, trans_matrix, axis=1)\n",
    "\n",
    "    return rigid_transformation\n",
    "\n",
    "tra_adr = \"LineMOD_Dataset\\\\ape\\\\data\\\\tra0.tra\"\n",
    "rot_adr = \"LineMOD_Dataset\\\\ape\\\\data\\\\rot0.rot\"\n",
    "rigid_transformation = get_rot_tra(rot_adr, tra_adr)"
   ]
  },
  {
   "cell_type": "code",
   "execution_count": 13,
   "metadata": {},
   "outputs": [
    {
     "name": "stdout",
     "output_type": "stream",
     "text": [
      "(3, 4)\n"
     ]
    }
   ],
   "source": [
    "print(rigid_transformation.shape)"
   ]
  },
  {
   "cell_type": "code",
   "execution_count": 15,
   "metadata": {},
   "outputs": [
    {
     "name": "stdout",
     "output_type": "stream",
     "text": [
      "0/2370 finished!\n",
      "[[ -9.07477831  -8.97066587  -9.0123123  ... -10.08988799 -10.13153361\n",
      "   -9.97536373]\n",
      " [  6.79336213   6.87701669   6.70796074 ...   0.45024232   0.28118702\n",
      "    0.40666984]\n",
      " [109.26116115 109.04317172 109.408136   ... 102.44449177 102.80945435\n",
      "  102.48246765]]\n"
     ]
    }
   ],
   "source": [
    "fx = 572.41140\n",
    "px = 325.26110\n",
    "fy = 573.57043\n",
    "py = 242.04899\n",
    "intrinsic_matrix = np.array([[fx, 0, px], [0, fy, py], [0, 0, 1]])\n",
    "classes = {'ape': 1, 'benchviseblue': 2, 'cam': 3, 'can': 4, 'cat': 5, 'driller': 6,\n",
    "           'duck': 7, 'eggbox': 8, 'glue': 9, 'holepuncher': 10, 'iron': 11, 'lamp': 12, 'phone': 13}\n",
    "\n",
    "list_all_images = load_obj(\"LineMOD_Dataset\\\\all_images_adr\")\n",
    "training_images_idx = load_obj(\"LineMOD_Dataset\\\\train_images_indices\")\n",
    "for i in range(1):\n",
    "    img_adr = list_all_images[training_images_idx[i]]\n",
    "    label = os.path.split(os.path.split(os.path.dirname(img_adr))[0])[1]\n",
    "    regex = re.compile(r'\\d+')\n",
    "    idx = regex.findall(os.path.split(img_adr)[1])[0]\n",
    "\n",
    "    if i % 1000 == 0:\n",
    "        print(str(i) + \"/\" + str(len(training_images_idx)) + \" finished!\")\n",
    "\n",
    "    image = cv2.imread(img_adr)\n",
    "    ID_mask = np.zeros((image.shape[0], image.shape[1]))\n",
    "    U_mask = np.zeros((image.shape[0], image.shape[1]))\n",
    "    V_mask = np.zeros((image.shape[0], image.shape[1]))\n",
    "\n",
    "    ID_mask_file = \"LineMOD_Dataset/\" + label + \\\n",
    "        \"/ground_truth/IDmasks/color\" + str(idx) + \".png\"\n",
    "    U_mask_file = \"LineMOD_Dataset/\" + label + \\\n",
    "        \"/ground_truth/Umasks/color\" + str(idx) + \".png\"\n",
    "    V_mask_file = \"LineMOD_Dataset/\" + label + \\\n",
    "        \"/ground_truth/Vmasks/color\" + str(idx) + \".png\"\n",
    "\n",
    "    tra_adr = \"LineMOD_Dataset/\" + label + \"/data/tra\" + str(idx) + \".tra\"\n",
    "    rot_adr = \"LineMOD_Dataset/\" + label + \"/data/rot\" + str(idx) + \".rot\"\n",
    "    rigid_transformation = get_rot_tra(rot_adr, tra_adr)\n",
    "\n",
    "    # Read point Point Cloud Data\n",
    "    ptcld_file = \"LineMOD_Dataset/\" + label + \"/object.xyz\"\n",
    "    pt_cld_data = np.loadtxt(ptcld_file, skiprows=1, usecols=(0, 1, 2))\n",
    "    ones = np.ones((pt_cld_data.shape[0], 1))\n",
    "    homogenous_coordinate = np.append(pt_cld_data[:, :3], ones, axis=1)\n",
    "\n",
    "    # Perspective Projection to obtain 2D coordinates for masks\n",
    "    homogenous_2D = intrinsic_matrix @ (\n",
    "        rigid_transformation @ homogenous_coordinate.T)\n",
    "    coord_2D = homogenous_2D[:2, :] / homogenous_2D[2, :]\n",
    "    coord_2D = ((np.floor(coord_2D)).T).astype(int)\n",
    "    x_2d = np.clip(coord_2D[:, 0], 0, 639)\n",
    "    y_2d = np.clip(coord_2D[:, 1], 0, 479)\n",
    "    ID_mask[y_2d, x_2d] = classes[label]\n",
    "    print(rigid_transformation @ homogenous_coordinate.T)"
   ]
  },
  {
   "cell_type": "code",
   "execution_count": 17,
   "metadata": {},
   "outputs": [
    {
     "name": "stdout",
     "output_type": "stream",
     "text": [
      "0/2370 finished!\n",
      "[[30343.89890714 30332.59057233 30427.46036391 ... 27545.64117091\n",
      "  27640.51087403 27623.54823911]\n",
      " [30343.02533957 30338.24299976 30329.61674122 ... 25054.83144471\n",
      "  25046.20514876 25039.03158292]\n",
      " [  109.26116115   109.04317172   109.408136   ...   102.44449177\n",
      "    102.80945435   102.48246765]]\n"
     ]
    }
   ],
   "source": [
    "fx = 572.41140\n",
    "px = 325.26110\n",
    "fy = 573.57043\n",
    "py = 242.04899\n",
    "intrinsic_matrix = np.array([[fx, 0, px], [0, fy, py], [0, 0, 1]])\n",
    "classes = {'ape': 1, 'benchviseblue': 2, 'cam': 3, 'can': 4, 'cat': 5, 'driller': 6,\n",
    "           'duck': 7, 'eggbox': 8, 'glue': 9, 'holepuncher': 10, 'iron': 11, 'lamp': 12, 'phone': 13}\n",
    "\n",
    "list_all_images = load_obj(\"LineMOD_Dataset\\\\all_images_adr\")\n",
    "training_images_idx = load_obj(\"LineMOD_Dataset\\\\train_images_indices\")\n",
    "for i in range(1):\n",
    "    img_adr = list_all_images[training_images_idx[i]]\n",
    "    label = os.path.split(os.path.split(os.path.dirname(img_adr))[0])[1]\n",
    "    regex = re.compile(r'\\d+')\n",
    "    idx = regex.findall(os.path.split(img_adr)[1])[0]\n",
    "\n",
    "    if i % 1000 == 0:\n",
    "        print(str(i) + \"/\" + str(len(training_images_idx)) + \" finished!\")\n",
    "\n",
    "    image = cv2.imread(img_adr)\n",
    "    ID_mask = np.zeros((image.shape[0], image.shape[1]))\n",
    "    U_mask = np.zeros((image.shape[0], image.shape[1]))\n",
    "    V_mask = np.zeros((image.shape[0], image.shape[1]))\n",
    "\n",
    "    ID_mask_file = \"LineMOD_Dataset/\" + label + \\\n",
    "        \"/ground_truth/IDmasks/color\" + str(idx) + \".png\"\n",
    "    U_mask_file = \"LineMOD_Dataset/\" + label + \\\n",
    "        \"/ground_truth/Umasks/color\" + str(idx) + \".png\"\n",
    "    V_mask_file = \"LineMOD_Dataset/\" + label + \\\n",
    "        \"/ground_truth/Vmasks/color\" + str(idx) + \".png\"\n",
    "\n",
    "    tra_adr = \"LineMOD_Dataset/\" + label + \"/data/tra\" + str(idx) + \".tra\"\n",
    "    rot_adr = \"LineMOD_Dataset/\" + label + \"/data/rot\" + str(idx) + \".rot\"\n",
    "    rigid_transformation = get_rot_tra(rot_adr, tra_adr)\n",
    "\n",
    "    # Read point Point Cloud Data\n",
    "    ptcld_file = \"LineMOD_Dataset/\" + label + \"/object.xyz\"\n",
    "    pt_cld_data = np.loadtxt(ptcld_file, skiprows=1, usecols=(0, 1, 2))\n",
    "    ones = np.ones((pt_cld_data.shape[0], 1))\n",
    "    homogenous_coordinate = np.append(pt_cld_data[:, :3], ones, axis=1) # so that it fits the matrix multiplication\n",
    "\n",
    "    # Perspective Projection to obtain 2D coordinates for masks\n",
    "    homogenous_2D = intrinsic_matrix @ (\n",
    "        rigid_transformation @ homogenous_coordinate.T)\n",
    "    coord_2D = homogenous_2D[:2, :] / homogenous_2D[2, :]\n",
    "    coord_2D = ((np.floor(coord_2D)).T).astype(int)\n",
    "    x_2d = np.clip(coord_2D[:, 0], 0, 639)\n",
    "    y_2d = np.clip(coord_2D[:, 1], 0, 479)\n",
    "    ID_mask[y_2d, x_2d] = classes[label]\n",
    "    print(homogenous_2D)"
   ]
  },
  {
   "cell_type": "code",
   "execution_count": 19,
   "metadata": {},
   "outputs": [
    {
     "name": "stdout",
     "output_type": "stream",
     "text": [
      "[[3.27654811e+05 0.00000000e+00 1.86508423e+05]\n",
      " [0.00000000e+00 3.28983038e+05 1.39074192e+05]\n",
      " [0.00000000e+00 0.00000000e+00 1.00000000e+00]]\n"
     ]
    }
   ],
   "source": [
    "print(intrinsic_matrix @ intrinsic_matrix)"
   ]
  },
  {
   "cell_type": "code",
   "execution_count": 20,
   "metadata": {},
   "outputs": [
    {
     "data": {
      "text/plain": [
       "(3, 3)"
      ]
     },
     "execution_count": 20,
     "metadata": {},
     "output_type": "execute_result"
    }
   ],
   "source": [
    "intrinsic_matrix.shape"
   ]
  },
  {
   "cell_type": "code",
   "execution_count": 21,
   "metadata": {},
   "outputs": [
    {
     "data": {
      "text/plain": [
       "array([[572.4114 ,   0.     , 325.2611 ],\n",
       "       [  0.     , 573.57043, 242.04899],\n",
       "       [  0.     ,   0.     ,   1.     ]])"
      ]
     },
     "execution_count": 21,
     "metadata": {},
     "output_type": "execute_result"
    }
   ],
   "source": [
    "intrinsic_matrix"
   ]
  },
  {
   "cell_type": "code",
   "execution_count": 24,
   "metadata": {},
   "outputs": [
    {
     "data": {
      "text/plain": [
       "array([[-2.36478 , -0.192424, -0.128283,  1.      ],\n",
       "       [-2.10913 , -0.192424, -0.128283,  1.      ],\n",
       "       [-2.49261 , -0.320707, -0.128283,  1.      ],\n",
       "       ...,\n",
       "       [ 0.958695,  0.577273, -8.85151 ,  1.      ],\n",
       "       [ 0.575217,  0.44899 , -8.85151 ,  1.      ],\n",
       "       [ 0.958695,  0.44899 , -8.85151 ,  1.      ]])"
      ]
     },
     "execution_count": 24,
     "metadata": {},
     "output_type": "execute_result"
    }
   ],
   "source": [
    "homogenous_coordinate"
   ]
  },
  {
   "cell_type": "code",
   "execution_count": 25,
   "metadata": {},
   "outputs": [
    {
     "data": {
      "text/plain": [
       "array([[1.],\n",
       "       [1.],\n",
       "       [1.],\n",
       "       ...,\n",
       "       [1.],\n",
       "       [1.],\n",
       "       [1.]])"
      ]
     },
     "execution_count": 25,
     "metadata": {},
     "output_type": "execute_result"
    }
   ],
   "source": [
    "np.ones((pt_cld_data.shape[0], 1))"
   ]
  },
  {
   "cell_type": "code",
   "execution_count": 26,
   "metadata": {},
   "outputs": [
    {
     "data": {
      "text/plain": [
       "array([[  0.407246,  -0.892747,   0.192754,  -8.25879 ],\n",
       "       [  0.327223,   0.339659,   0.881792,   7.74565 ],\n",
       "       [ -0.852687,  -0.296032,   0.430452, 107.243   ]])"
      ]
     },
     "execution_count": 26,
     "metadata": {},
     "output_type": "execute_result"
    }
   ],
   "source": [
    "rigid_transformation"
   ]
  },
  {
   "cell_type": "code",
   "execution_count": null,
   "metadata": {},
   "outputs": [],
   "source": [
    "rot_matrix = np.loadtxt(\"LineMOD_Dataset/ape/data/rot0.rot\", skiprows=1)\n",
    "trans_matrix = np.loadtxt(\"LineMOD_Dataset/ape/data/tra0.tra\", skiprows=1)\n",
    "trans_matrix = np.reshape(trans_matrix, (3, 1))\n",
    "rigid_transformation = np.append(rot_matrix, trans_matrix, axis=1)\n"
   ]
  }
 ],
 "metadata": {
  "interpreter": {
   "hash": "8b1e275dd90fed96fce8d8905aa1859f3f37dca48f33fdd4f3ea0fb9fd7d3d67"
  },
  "kernelspec": {
   "display_name": "Python 3.6.13 ('DPOD')",
   "language": "python",
   "name": "python3"
  },
  "language_info": {
   "codemirror_mode": {
    "name": "ipython",
    "version": 3
   },
   "file_extension": ".py",
   "mimetype": "text/x-python",
   "name": "python",
   "nbconvert_exporter": "python",
   "pygments_lexer": "ipython3",
   "version": "3.6.13"
  },
  "orig_nbformat": 4
 },
 "nbformat": 4,
 "nbformat_minor": 2
}
